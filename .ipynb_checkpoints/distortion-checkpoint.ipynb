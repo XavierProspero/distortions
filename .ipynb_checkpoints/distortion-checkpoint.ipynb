{
 "cells": [
  {
   "cell_type": "markdown",
   "id": "4592d45d",
   "metadata": {},
   "source": [
    "## Playing with different methods of distortion."
   ]
  },
  {
   "cell_type": "code",
   "execution_count": 1,
   "id": "35583cf4",
   "metadata": {},
   "outputs": [],
   "source": [
    "# Constants\n",
    "import numpy as np\n",
    "\n",
    "FS = 48000\n"
   ]
  },
  {
   "cell_type": "markdown",
   "id": "c0d79263",
   "metadata": {},
   "source": [
    "### Sine generator. \n",
    "Here we create a sine wav given a certain frequency."
   ]
  },
  {
   "cell_type": "code",
   "execution_count": 7,
   "id": "55b75df9",
   "metadata": {},
   "outputs": [],
   "source": [
    "def frequency2period(f):\n",
    "    return int(FS / f)\n",
    "\n",
    "def create_sine(f, T):\n",
    "    phase = np.linspace(0, T, T * FS, True)\n",
    "    return np.sin(phase * 2. * np.pi * f)"
   ]
  },
  {
   "cell_type": "markdown",
   "id": "5ea130fd",
   "metadata": {},
   "source": [
    "### Wave plotter.\n",
    "Allows us to plot out our sine wave."
   ]
  },
  {
   "cell_type": "code",
   "execution_count": 8,
   "id": "81619abd",
   "metadata": {},
   "outputs": [],
   "source": [
    "import plotly.express as px\n",
    "\n",
    "def plot_wave_time(wave, num_samples):\n",
    "    fig = px.line(wave[:num_samples])\n",
    "    fig.show()"
   ]
  },
  {
   "cell_type": "markdown",
   "id": "2b272698",
   "metadata": {},
   "source": [
    "\n",
    "\n",
    "\n",
    "\n",
    "### Create natural sounds.\n",
    "A set of natural sounds."
   ]
  },
  {
   "cell_type": "code",
   "execution_count": 23,
   "id": "d186bfd6",
   "metadata": {},
   "outputs": [],
   "source": [
    "NORMALIZE = True\n",
    "\n",
    "## Creates a superposition of sine harmonics.\n",
    "#  @param fs the fundamental frequency.\n",
    "#  @param num_harmonics the number of harmonics to add.\n",
    "#  @param harmonic a function that takes in a harmonic number and outputs a harmonic. \n",
    "#  @param decay a function that takes in a harmonic number and returns an amplitude.\n",
    "def create_harmonic_wave(f, num_samples, num_harmonics, harmonic, decay):\n",
    "    base_sine = create_sine(f, num_samples)\n",
    "    \n",
    "    for h_idx in range(2, num_harmonics + 1):\n",
    "        base_sine = np.add(base_sine, decay(h_idx) * create_sine(f * harmonic(h_idx), num_samples))\n",
    "                           \n",
    "    if (NORMALIZE):\n",
    "        base_sine /= np.amax(np.abs(base_sine))\n",
    "    \n",
    "    return base_sine\n",
    "\n",
    "def create_harmonic_series(f, num_samples):\n",
    "    num_harmonics = 20\n",
    "    harmonic = lambda x : x\n",
    "    decay = lambda x : 1 / (x * x)\n",
    "    \n",
    "    return create_harmonic_wave(f, num_samples, num_harmonics, harmonic, decay)\n",
    "\n",
    "def create_odd_series(f, num_samples):\n",
    "    num_harmonics = 10\n",
    "    harmonic = lambda x : 2 * x - 1\n",
    "    decay = lambda x : 1 / x\n",
    "    \n",
    "    return create_harmonic_wave(f, num_samples, num_harmonics, harmonic, decay)\n",
    "\n",
    "def create_even_series(f, num_samples):\n",
    "    num_harmonics = 10\n",
    "    harmonic = lambda x : 2 * x - 2\n",
    "    decay = lambda x : 1 / x\n",
    "    \n",
    "    return create_harmonic_wave(f, num_samples, num_harmonics, harmonic, decay)"
   ]
  },
  {
   "cell_type": "markdown",
   "id": "b06550ac",
   "metadata": {},
   "source": [
    "### Playing files and numpy arrays.\n",
    "Methods for playing nuumpy arrays and audio files."
   ]
  },
  {
   "cell_type": "code",
   "execution_count": 13,
   "id": "02e4601e",
   "metadata": {},
   "outputs": [],
   "source": [
    "import simpleaudio as sa\n",
    "\n",
    "def open_file(filename):\n",
    "    return sa.WaveObject.from_wave_file(filename)\n",
    "\n",
    "def play_wave_obj(wave_obj):\n",
    "    play_obj = wave_obj.play()\n",
    "#     play_obj.wait_done()\n",
    "    return play_obj\n",
    "\n",
    "def floattoint16(_float):\n",
    "    return (_float * np.iinfo(np.int16).max).astype(np.int16)\n",
    "\n",
    "def int16arr2float(int16_arr):\n",
    "    data_s16 = np.frombuffer(wave_obj.audio_data, dtype=np.int16, count=len(wave_obj.audio_data)//2, offset=0)\n",
    "    float_data = data_s16 / np.iinfo(np.int16).max\n",
    "    return float_data\n",
    "\n",
    "def floatarr2int16(float_arr):\n",
    "    retval = np.zeros(len(float_arr), dtype='int16')\n",
    "    for i, _float in enumerate(float_arr):\n",
    "        retval[i] = floattoint16(_float)\n",
    "    return retval\n",
    "\n",
    "def get_left_channel(arr):\n",
    "    return np.array(arr[::2])\n",
    "\n",
    "def play_float_arr(arr):\n",
    "    return sa.play_buffer(floatarr2int16(arr), 1, 2, FS)"
   ]
  },
  {
   "cell_type": "markdown",
   "id": "b52c0a32",
   "metadata": {},
   "source": [
    "### Playing some tones.\n",
    "Okay now we have all the machinery to play some tones.\n",
    "\n",
    "Here we have some examples of how to play some even, odd, and harmonic content."
   ]
  },
  {
   "cell_type": "code",
   "execution_count": 24,
   "id": "a57a5534",
   "metadata": {},
   "outputs": [],
   "source": [
    "# Play Harmonic Series\n",
    "T = 5\n",
    "sig_harm = create_harmonic_series(440, T)\n",
    "play_obj_harm = play_float_arr(sig_harm)"
   ]
  },
  {
   "cell_type": "code",
   "execution_count": 21,
   "id": "be80441e",
   "metadata": {},
   "outputs": [],
   "source": [
    "# Play Even Series\n",
    "T = 5\n",
    "sig_even = create_even_series(440, T)\n",
    "play_obj_even = play_float_arr(sig_even)"
   ]
  },
  {
   "cell_type": "code",
   "execution_count": 22,
   "id": "61e23bbf",
   "metadata": {},
   "outputs": [],
   "source": [
    "# Play Odd Series\n",
    "sig_odd = create_odd_series(440, T)\n",
    "play_obj_odd = play_float_arr(sig_odd)"
   ]
  },
  {
   "cell_type": "code",
   "execution_count": 25,
   "id": "a92a855d",
   "metadata": {},
   "outputs": [],
   "source": [
    "# Stops everything!\n",
    "play_obj_harm.stop()\n",
    "play_obj_even.stop()\n",
    "play_obj_odd.stop()"
   ]
  },
  {
   "cell_type": "markdown",
   "id": "86c8d6da",
   "metadata": {},
   "source": [
    "### Distortion Functions.\n",
    "These functions are a simple starting point.\n",
    "\n",
    "$f(s)$ $s \\in [-1, 1]$ such that s is a float valued sample "
   ]
  },
  {
   "cell_type": "code",
   "execution_count": null,
   "id": "c5605180",
   "metadata": {},
   "outputs": [],
   "source": [
    "# Takes an array of samples and a distortion functiton.\n",
    "# Then applies the function to each sample.\n",
    "def distortion(arr, distortion):\n",
    "    retval = np.zeros(len(arr))\n",
    "    for samp_idx in range(arr):\n",
    "        retval[samp_idx] = distortion(samp_idx)\n",
    "        \n",
    "def tanh_distort(arr, gain):\n",
    "    distort = lambda x : np.tanh(x * gain)\n",
    "    return distortion(arr, distort)\n",
    "\n"
   ]
  },
  {
   "cell_type": "markdown",
   "id": "f8027ccc",
   "metadata": {},
   "source": [
    "## Testing!"
   ]
  },
  {
   "cell_type": "code",
   "execution_count": 12,
   "id": "af312953",
   "metadata": {},
   "outputs": [],
   "source": [
    "# Testing\n",
    "fs_test = 500\n",
    "period_test = frequency2period(fs_test)\n",
    "\n",
    "# Tested\n",
    "# sine_test = create_sine(fs_test, FS)\n",
    "# plot_wave_time(sine_test, period_test)\n",
    "\n",
    "# Tested\n",
    "# series_test = create_harmonic_series(fs_test, FS)\n",
    "# plot_wave_time(series_test, period_test)\n",
    "\n",
    "# Tested\n",
    "# series_test = create_odd_series(fs_test, FS)\n",
    "# plot_wave_time(series_test, period_test)\n",
    "\n",
    "# Tested\n",
    "# series_test = create_even_series(fs_test, FS)\n",
    "# plot_wave_time(series_test, period_test * 2)\n",
    "\n",
    "# Tested\n",
    "# wave_obj = open_file(\"audio/guitar_sample.wav\")\n",
    "# play_obj = play_wave_obj(wave_obj)\n",
    "# print(int16arr2float(wave_obj.audio_data))\n",
    "\n",
    "# Tested\n",
    "# wave_obj = open_file(\"audio/guitar_sample.wav\")\n",
    "# float_data = int16arr2float(wave_obj.audio_data)\n",
    "# float_data = np.array(float_data[::2])\n",
    "# audio_int = floatarr2int16(float_data)\n",
    "# play_obj = sa.play_buffer(np.array(audio_int), 1, 2, FS)"
   ]
  },
  {
   "cell_type": "code",
   "execution_count": 22,
   "id": "42d610b2",
   "metadata": {},
   "outputs": [],
   "source": [
    "play_obj.stop()\n"
   ]
  },
  {
   "cell_type": "code",
   "execution_count": null,
   "id": "ec6133cc",
   "metadata": {},
   "outputs": [],
   "source": []
  }
 ],
 "metadata": {
  "kernelspec": {
   "display_name": "Python 3 (ipykernel)",
   "language": "python",
   "name": "python3"
  },
  "language_info": {
   "codemirror_mode": {
    "name": "ipython",
    "version": 3
   },
   "file_extension": ".py",
   "mimetype": "text/x-python",
   "name": "python",
   "nbconvert_exporter": "python",
   "pygments_lexer": "ipython3",
   "version": "3.7.0"
  }
 },
 "nbformat": 4,
 "nbformat_minor": 5
}
